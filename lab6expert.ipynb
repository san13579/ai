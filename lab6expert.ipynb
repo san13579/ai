{
 "cells": [
  {
   "cell_type": "code",
   "execution_count": 3,
   "id": "64989d93",
   "metadata": {},
   "outputs": [
    {
     "name": "stdout",
     "output_type": "stream",
     "text": [
      "Hello\n"
     ]
    }
   ],
   "source": [
    "print(\"Hello\")"
   ]
  },
  {
   "cell_type": "code",
   "execution_count": null,
   "id": "e05a42e2",
   "metadata": {},
   "outputs": [
    {
     "name": "stdout",
     "output_type": "stream",
     "text": [
      "\n",
      "\n",
      "\t\tWelcome To The Hospital and Medical Facilities EXPERT SYSTEM\n",
      "\n",
      "\tNote: Please answer the following questions honestly to determine your medical facility needs\n",
      "\n",
      "\n",
      "Do you need a general check-up? (Y/N)\n"
     ]
    }
   ],
   "source": [
    "QUESTIONS = [\n",
    "    'Do you need a general check-up?',\n",
    "    'Do you require a specialist consultation?',\n",
    "    'Do you need diagnostic tests?',\n",
    "    'Do you require any surgeries?',\n",
    "    'Are you experiencing any specific symptoms or conditions?',\n",
    "    'Do you need assistance with medication management?'\n",
    "]\n",
    "\n",
    "THRESHOLD = {\n",
    "    'Basic': 3,\n",
    "    'Intermediate': 6,\n",
    "    'Advanced': 9\n",
    "}\n",
    "\n",
    "SERVICES = {\n",
    "    'General Check-up': ['Physical examination', 'Routine blood tests', 'Vaccinations'],\n",
    "    'Specialist Consultation': ['Cardiology', 'Dermatology', 'Orthopedics', 'Gynecology', 'Neurology'],\n",
    "    'Diagnostic Tests': ['X-ray', 'MRI', 'CT scan', 'Blood tests'],\n",
    "    'Surgeries': ['Cataract surgery', 'Knee replacement', 'Hernia repair'],\n",
    "    'Medication Management': ['Prescription refill', 'Medication counseling', 'Dosage adjustment'],\n",
    "}\n",
    "\n",
    "def expertSystem(questions, threshold, services):\n",
    "    score = 0\n",
    "    for question in questions:\n",
    "        print(question + \" (Y/N)\")\n",
    "        ans = input(\"> \")\n",
    "        if ans.lower() == 'y':\n",
    "            score += 1\n",
    "        print()\n",
    "        print()\n",
    "\n",
    "    if score >= threshold['Advanced']:\n",
    "        print(\"Based on your responses, you require ADVANCED medical facilities.\")\n",
    "        print(\"We recommend contacting a specialized hospital or medical center that can cater to your specific needs.\")\n",
    "        recommend_services(services)\n",
    "    elif score >= threshold['Intermediate']:\n",
    "        print(\"Based on your responses, you require INTERMEDIATE medical facilities.\")\n",
    "        print(\"We suggest seeking assistance from a comprehensive medical facility that offers a wide range of services.\")\n",
    "        recommend_services(services)\n",
    "    elif score >= threshold['Basic']:\n",
    "        print(\"Based on your responses, you require BASIC medical facilities.\")\n",
    "        print(\"You can visit a general hospital or clinic to address your healthcare needs.\")\n",
    "        recommend_services(services)\n",
    "    else:\n",
    "        print(\"Based on your responses, you have minimal requirements for medical facilities.\")\n",
    "        print(\"You may consider visiting a local clinic or consulting a primary care physician.\")\n",
    "\n",
    "def recommend_services(services):\n",
    "    print(\"Here are some services that may be relevant to your needs:\")\n",
    "    for service, sub_services in services.items():\n",
    "        print(service + \":\")\n",
    "        for sub_service in sub_services:\n",
    "            print(\"- \" + sub_service)\n",
    "        print()\n",
    "\n",
    "if __name__ == '__main__':\n",
    "    print(\"\\n\\n\\t\\tWelcome To The Hospital and Medical Facilities EXPERT SYSTEM\\n\")\n",
    "    print(\"\\tNote: Please answer the following questions honestly to determine your medical facility needs\\n\\n\")\n",
    "    expertSystem(QUESTIONS, THRESHOLD, SERVICES)\n"
   ]
  },
  {
   "cell_type": "code",
   "execution_count": null,
   "id": "42f9bcb6",
   "metadata": {},
   "outputs": [],
   "source": []
  }
 ],
 "metadata": {
  "kernelspec": {
   "display_name": "Python 3 (ipykernel)",
   "language": "python",
   "name": "python3"
  },
  "language_info": {
   "codemirror_mode": {
    "name": "ipython",
    "version": 3
   },
   "file_extension": ".py",
   "mimetype": "text/x-python",
   "name": "python",
   "nbconvert_exporter": "python",
   "pygments_lexer": "ipython3",
   "version": "3.9.12"
  }
 },
 "nbformat": 4,
 "nbformat_minor": 5
}
