{
 "cells": [
  {
   "cell_type": "code",
   "execution_count": 2,
   "id": "70af2274",
   "metadata": {},
   "outputs": [
    {
     "name": "stdout",
     "output_type": "stream",
     "text": [
      ">hi\n",
      "Hello! How can I assist you today?\n",
      ">transfer money\n",
      "Certainly! Please provide me the recipient's account number and the amount you wish to transfer.\n",
      ">account number is 37476 and transfer 50 dollars\n",
      "None\n",
      ">quit\n",
      "Goodbye! Have a great day ahead.\n"
     ]
    }
   ],
   "source": [
    "import nltk\n",
    "from nltk.chat.util import Chat, reflections\n",
    "\n",
    "reflections = {\n",
    "    \"i am\": \"you are\",\n",
    "    \"i was\": \"you were\",\n",
    "    \"i\": \"you\",\n",
    "    \"i'm\": \"you are\",\n",
    "    \"i'd\": \"you would\",\n",
    "    \"i've\": \"you have\",\n",
    "    \"i'll\": \"you will\",\n",
    "    \"my\": \"your\",\n",
    "    \"you are\": \"I am\",\n",
    "    \"you were\": \"I was\",\n",
    "    \"you've\": \"I have\",\n",
    "    \"you'll\": \"I will\",\n",
    "    \"your\": \"my\",\n",
    "    \"yours\": \"mine\",\n",
    "    \"you\": \"me\",\n",
    "    \"me\": \"you\"\n",
    "}\n",
    "\n",
    "pairs = [\n",
    "    [\n",
    "        r\"hi|hey|hello\",\n",
    "        [\"Hello! How can I assist you today?\", \"Hi there! How can I help you?\",]\n",
    "    ],\n",
    "    [\n",
    "        r\"balance inquiry\",\n",
    "        [\"Sure! Could you please provide me your account number?\",]\n",
    "    ],\n",
    "    [\n",
    "        r\"my account number is (.*)\",\n",
    "        [\"Your current account balance is $1000. How else can I assist you?\",]\n",
    "    ],\n",
    "    [\n",
    "        r\"transfer money\",\n",
    "        [\"Certainly! Please provide me the recipient's account number and the amount you wish to transfer.\",]\n",
    "    ],\n",
    "    [\n",
    "        r\"(.*) account number is (.*) and transfer (.*) dollars\",\n",
    "        [\"Money transfer of $%3 from account %2 to %1 has been initiated successfully.\",]\n",
    "    ],\n",
    "    [\n",
    "        r\"thank you|thanks\",\n",
    "        [\"You're welcome! If you need any further assistance, feel free to ask.\",]\n",
    "    ],\n",
    "    [\n",
    "        r\"quit\",\n",
    "        [\"Goodbye! Have a great day ahead.\",]\n",
    "    ]\n",
    "]\n",
    "\n",
    "chatbot = Chat(pairs, reflections)\n",
    "chatbot.converse()\n",
    "\n"
   ]
  },
  {
   "cell_type": "code",
   "execution_count": null,
   "id": "7dc85696",
   "metadata": {},
   "outputs": [],
   "source": []
  }
 ],
 "metadata": {
  "kernelspec": {
   "display_name": "Python 3 (ipykernel)",
   "language": "python",
   "name": "python3"
  },
  "language_info": {
   "codemirror_mode": {
    "name": "ipython",
    "version": 3
   },
   "file_extension": ".py",
   "mimetype": "text/x-python",
   "name": "python",
   "nbconvert_exporter": "python",
   "pygments_lexer": "ipython3",
   "version": "3.9.12"
  }
 },
 "nbformat": 4,
 "nbformat_minor": 5
}
